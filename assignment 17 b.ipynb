{
 "cells": [
  {
   "cell_type": "code",
   "execution_count": 1,
   "id": "de2af7d4",
   "metadata": {},
   "outputs": [
    {
     "data": {
      "text/plain": [
       "'\\nQ1. PMF and PDF\\nPMF: Describes the probability of discrete outcomes. E.g., the probability of rolling a specific number on a die.\\nPDF: Describes the likelihood of a continuous variable. E.g., the height distribution in a population.\\n'"
      ]
     },
     "execution_count": 1,
     "metadata": {},
     "output_type": "execute_result"
    }
   ],
   "source": [
    "'''\n",
    "Q1. PMF and PDF\n",
    "PMF: Describes the probability of discrete outcomes. E.g., the probability of rolling a specific number on a die.\n",
    "PDF: Describes the likelihood of a continuous variable. E.g., the height distribution in a population.\n",
    "'''"
   ]
  },
  {
   "cell_type": "code",
   "execution_count": 2,
   "id": "1a715d07",
   "metadata": {},
   "outputs": [
    {
     "data": {
      "text/plain": [
       "'\\nQ2. Cumulative Density Function (CDF)\\nCDF is the probability that a variable takes a value less than or equal to \\n𝑥\\nx. E.g., in a normal distribution, the probability a value is below 2. CDF is used to determine probabilities over ranges of values.\\n'"
      ]
     },
     "execution_count": 2,
     "metadata": {},
     "output_type": "execute_result"
    }
   ],
   "source": [
    "'''\n",
    "Q2. Cumulative Density Function (CDF)\n",
    "CDF is the probability that a variable takes a value less than or equal to \n",
    "𝑥\n",
    "x. E.g., in a normal distribution, the probability a value is below 2. CDF is used to determine probabilities over ranges of values.\n",
    "'''"
   ]
  },
  {
   "cell_type": "code",
   "execution_count": 3,
   "id": "45003788",
   "metadata": {},
   "outputs": [
    {
     "data": {
      "text/plain": [
       "'\\nQ3. Normal Distribution Model Examples\\nUsed for heights, test scores, and measurement errors. The mean determines the center, and the standard deviation determines the spread of the distribution.\\n'"
      ]
     },
     "execution_count": 3,
     "metadata": {},
     "output_type": "execute_result"
    }
   ],
   "source": [
    "'''\n",
    "Q3. Normal Distribution Model Examples\n",
    "Used for heights, test scores, and measurement errors. The mean determines the center, and the standard deviation determines the spread of the distribution.\n",
    "'''"
   ]
  },
  {
   "cell_type": "code",
   "execution_count": 4,
   "id": "343c99ae",
   "metadata": {},
   "outputs": [
    {
     "data": {
      "text/plain": [
       "'\\nQ4. Importance of Normal Distribution\\nIt models real-world phenomena, facilitates statistical analysis, and underlies the Central Limit Theorem. Examples include human heights, IQ scores, and measurement errors.\\n'"
      ]
     },
     "execution_count": 4,
     "metadata": {},
     "output_type": "execute_result"
    }
   ],
   "source": [
    "'''\n",
    "Q4. Importance of Normal Distribution\n",
    "It models real-world phenomena, facilitates statistical analysis, and underlies the Central Limit Theorem. Examples include human heights, IQ scores, and measurement errors.\n",
    "'''"
   ]
  },
  {
   "cell_type": "code",
   "execution_count": 5,
   "id": "f3176e9e",
   "metadata": {},
   "outputs": [
    {
     "data": {
      "text/plain": [
       "'\\nQ5. Bernoulli Distribution\\nA distribution with two outcomes: success (1) and failure (0). E.g., flipping a coin. Difference: Bernoulli has one trial; binomial has multiple independent trials.\\n'"
      ]
     },
     "execution_count": 5,
     "metadata": {},
     "output_type": "execute_result"
    }
   ],
   "source": [
    "'''\n",
    "Q5. Bernoulli Distribution\n",
    "A distribution with two outcomes: success (1) and failure (0). E.g., flipping a coin. Difference: Bernoulli has one trial; binomial has multiple independent trials.\n",
    "'''"
   ]
  },
  {
   "cell_type": "code",
   "execution_count": 7,
   "id": "78d59762",
   "metadata": {},
   "outputs": [
    {
     "data": {
      "text/plain": [
       "'\\nQ6. Probability Calculation\\nP(X>60)=1−P(X≤60)\\n𝑍=(60−50)/10=1\\nP(Z≤1)=0.8413\\nP(X>60)=1−0.8413=0.1587\\n'"
      ]
     },
     "execution_count": 7,
     "metadata": {},
     "output_type": "execute_result"
    }
   ],
   "source": [
    "'''\n",
    "Q6. Probability Calculation\n",
    "P(X>60)=1−P(X≤60)\n",
    "𝑍=(60−50)/10=1\n",
    "P(Z≤1)=0.8413\n",
    "P(X>60)=1−0.8413=0.1587\n",
    "'''"
   ]
  },
  {
   "cell_type": "code",
   "execution_count": 8,
   "id": "ecc6f0ab",
   "metadata": {},
   "outputs": [
    {
     "data": {
      "text/plain": [
       "'\\nQ7. Uniform Distribution\\nAll outcomes are equally likely. E.g., rolling a fair die has a uniform distribution where each side has a probability of 1/6\\n'"
      ]
     },
     "execution_count": 8,
     "metadata": {},
     "output_type": "execute_result"
    }
   ],
   "source": [
    "'''\n",
    "Q7. Uniform Distribution\n",
    "All outcomes are equally likely. E.g., rolling a fair die has a uniform distribution where each side has a probability of 1/6\n",
    "'''\n"
   ]
  },
  {
   "cell_type": "code",
   "execution_count": 9,
   "id": "231d3436",
   "metadata": {},
   "outputs": [
    {
     "data": {
      "text/plain": [
       "'\\nQ8. Z Score\\nMeasures the number of standard deviations a data point is from the mean. Important for standardizing data and comparing different datasets.\\n'"
      ]
     },
     "execution_count": 9,
     "metadata": {},
     "output_type": "execute_result"
    }
   ],
   "source": [
    "'''\n",
    "Q8. Z Score\n",
    "Measures the number of standard deviations a data point is from the mean. Important for standardizing data and comparing different datasets.\n",
    "'''"
   ]
  },
  {
   "cell_type": "code",
   "execution_count": 10,
   "id": "4e2594df",
   "metadata": {},
   "outputs": [
    {
     "data": {
      "text/plain": [
       "'\\nQ9. Central Limit Theorem (CLT)\\nThe distribution of sample means approaches a normal distribution as sample size increases. Significant for making inferences about population parameters from sample statistics.\\n'"
      ]
     },
     "execution_count": 10,
     "metadata": {},
     "output_type": "execute_result"
    }
   ],
   "source": [
    "'''\n",
    "Q9. Central Limit Theorem (CLT)\n",
    "The distribution of sample means approaches a normal distribution as sample size increases. Significant for making inferences about population parameters from sample statistics.\n",
    "'''"
   ]
  },
  {
   "cell_type": "code",
   "execution_count": 11,
   "id": "97d2f5b2",
   "metadata": {},
   "outputs": [
    {
     "data": {
      "text/plain": [
       "'\\nQ10. Assumptions of CLT\\nIndependent samples.\\nSample size is sufficiently large (usually 𝑛>30n>30).\\nPopulation distribution does not need to be normal.\\n'"
      ]
     },
     "execution_count": 11,
     "metadata": {},
     "output_type": "execute_result"
    }
   ],
   "source": [
    "'''\n",
    "Q10. Assumptions of CLT\n",
    "Independent samples.\n",
    "Sample size is sufficiently large (usually 𝑛>30n>30).\n",
    "Population distribution does not need to be normal.\n",
    "'''"
   ]
  },
  {
   "cell_type": "code",
   "execution_count": null,
   "id": "b2a08bc1",
   "metadata": {},
   "outputs": [],
   "source": []
  }
 ],
 "metadata": {
  "kernelspec": {
   "display_name": "Python 3 (ipykernel)",
   "language": "python",
   "name": "python3"
  },
  "language_info": {
   "codemirror_mode": {
    "name": "ipython",
    "version": 3
   },
   "file_extension": ".py",
   "mimetype": "text/x-python",
   "name": "python",
   "nbconvert_exporter": "python",
   "pygments_lexer": "ipython3",
   "version": "3.11.4"
  }
 },
 "nbformat": 4,
 "nbformat_minor": 5
}
